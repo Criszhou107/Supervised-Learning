{
 "cells": [
  {
   "cell_type": "markdown",
   "id": "dd2ff2a5",
   "metadata": {},
   "source": [
    "## Decision tree model training\n",
    "This notebook trains a decision tree on one of the in-built datasets that comes with the SKLearn library. This is the 'digits' data set, which is simplified version of the famous MNIST dataset. This dataset contains images of handwritten numbers 0-9. You are given the grayscale colour of each picture in the image, and the goal is to predict the number."
   ]
  },
  {
   "cell_type": "code",
   "execution_count": 1,
   "id": "28dcd179",
   "metadata": {},
   "outputs": [],
   "source": [
    "import matplotlib.pyplot as plt\n",
    "\n",
    "# Import datasets, classifiers and performance metrics\n",
    "from sklearn import datasets, svm, metrics\n",
    "from sklearn.model_selection import train_test_split, cross_val_score"
   ]
  },
  {
   "cell_type": "code",
   "execution_count": 2,
   "id": "fcb504bd",
   "metadata": {},
   "outputs": [],
   "source": [
    "digits = datasets.load_digits() #load the digits dataset\n",
    "X = digits.data #these are the raw pixel values\n",
    "y = digits.target #these are the labels"
   ]
  },
  {
   "cell_type": "markdown",
   "id": "1d852611",
   "metadata": {},
   "source": [
    "Plot the first example in the dataset. Note that we are using the *digits.images* object, which contains the 2D version of the data. *digits.data* contains the same data, but it has been flattened into a 1D array."
   ]
  },
  {
   "cell_type": "code",
   "execution_count": 3,
   "id": "8de422b0",
   "metadata": {},
   "outputs": [
    {
     "data": {
      "text/plain": [
       "<Figure size 432x288 with 0 Axes>"
      ]
     },
     "metadata": {},
     "output_type": "display_data"
    },
    {
     "data": {
      "image/png": "[encoded data removed]",
      "text/plain": [
       "<Figure size 288x288 with 1 Axes>"
      ]
     },
     "metadata": {
      "needs_background": "light"
     },
     "output_type": "display_data"
    }
   ],
   "source": [
    "plt.gray()\n",
    "plt.matshow(digits.images[0]) \n",
    "plt.show()"
   ]
  },
  {
   "cell_type": "markdown",
   "id": "05a4bb29",
   "metadata": {},
   "source": [
    "We'll now train a random forest classifier using 5-fold cross validation. The *cross_val_score* does this for us automatically, and outputs the accuracy"
   ]
  },
  {
   "cell_type": "code",
   "execution_count": 4,
   "id": "1a812c60",
   "metadata": {},
   "outputs": [
    {
     "name": "stdout",
     "output_type": "stream",
     "text": [
      "[0.75277778 0.69722222 0.79108635 0.83286908 0.79665738]\n"
     ]
    }
   ],
   "source": [
    "from sklearn.tree import DecisionTreeClassifier\n",
    "model = DecisionTreeClassifier()\n",
    "scores = cross_val_score(model, X, y, cv=5)\n",
    "print(scores)"
   ]
  },
  {
   "cell_type": "markdown",
   "id": "51bfde70",
   "metadata": {},
   "source": [
    "The default scorer in *cross_val_score* calculates the accuracy, but we can change that as follows to give sensitivity (for example) for a specific class"
   ]
  },
  {
   "cell_type": "code",
   "execution_count": 5,
   "id": "1e9ab094",
   "metadata": {},
   "outputs": [],
   "source": [
    "from sklearn.metrics import recall_score\n",
    "from sklearn.metrics import make_scorer"
   ]
  },
  {
   "cell_type": "code",
   "execution_count": 6,
   "id": "c2c9449d",
   "metadata": {},
   "outputs": [],
   "source": [
    "sensitivity = make_scorer(recall_score, pos_label=1, average='macro') #sensitivity is equivalent to recall"
   ]
  },
  {
   "cell_type": "code",
   "execution_count": 7,
   "id": "26351dd4",
   "metadata": {},
   "outputs": [],
   "source": [
    "scores = cross_val_score(model, X, y, cv=5, scoring=sensitivity)"
   ]
  },
  {
   "cell_type": "code",
   "execution_count": 8,
   "id": "e425f7b4",
   "metadata": {},
   "outputs": [
    {
     "data": {
      "text/plain": [
       "array([0.7725547 , 0.72573359, 0.80402844, 0.82382025, 0.79536036])"
      ]
     },
     "execution_count": 8,
     "metadata": {},
     "output_type": "execute_result"
    }
   ],
   "source": [
    "scores"
   ]
  },
  {
   "cell_type": "markdown",
   "id": "123178a3",
   "metadata": {},
   "source": [
    "## ROC Analysis\n",
    "We will now go through an example of ROC analysis. In the lab exercises, the outcomes are binary ({died, recovered}). The following shows how you can extend ROC analysis for a multiclass problem, as you will need to do in your assignment.\n",
    "\n",
    "Here, we will consider how well a logistic regression classifier performs at predicting the number '0' on the digits dataset. To do this, we will convert the multiclass problem into a binary problem. We will do this in a rather simplistic way, by relabelling any number that is not '0' as '1'.\n",
    "\n",
    "For simplicity, we will use a train/test split instead of cross validation"
   ]
  },
  {
   "cell_type": "code",
   "execution_count": 9,
   "id": "1d4ce668",
   "metadata": {},
   "outputs": [
    {
     "data": {
      "text/plain": [
       "LogisticRegression(max_iter=10000)"
      ]
     },
     "execution_count": 9,
     "metadata": {},
     "output_type": "execute_result"
    }
   ],
   "source": [
    "# change all of the labels that are NOT 0 to 1\n",
    "y[y!=0] = 1\n",
    "\n",
    "# Split data into 50% train and 50% test subsets\n",
    "X_train, X_test, y_train, y_test = train_test_split(X, y, test_size=0.5, shuffle=False)\n",
    "\n",
    "from sklearn.linear_model import LogisticRegression\n",
    "logreg = LogisticRegression(max_iter=10000)\n",
    "logreg.fit(X_train, y_train)"
   ]
  },
  {
   "cell_type": "markdown",
   "id": "0fa9509c",
   "metadata": {},
   "source": [
    "Having trained the model, we now make some predictions on the test set. Note that yesterday we used the *predict* function, which output the predicted class. Now, we are using *predict_proba* which gives the output probability of the logistic regression. It returns two columns, the probability of class 0 and class 1 respectively."
   ]
  },
  {
   "cell_type": "code",
   "execution_count": 10,
   "id": "765eea63",
   "metadata": {},
   "outputs": [
    {
     "name": "stdout",
     "output_type": "stream",
     "text": [
      "[[4.68557082e-09 9.99999995e-01]\n",
      " [2.99384713e-06 9.99997006e-01]\n",
      " [1.27561339e-04 9.99872439e-01]\n",
      " ...\n",
      " [2.54703258e-09 9.99999997e-01]\n",
      " [7.88346053e-04 9.99211654e-01]\n",
      " [6.57262000e-09 9.99999993e-01]]\n"
     ]
    }
   ],
   "source": [
    "y_pred = logreg.predict_proba(X_test)\n",
    "print(y_pred)"
   ]
  },
  {
   "cell_type": "code",
   "execution_count": 11,
   "id": "625e6cf8",
   "metadata": {},
   "outputs": [],
   "source": [
    "fpr, tpr, thresholds = metrics.roc_curve(y_test, y_pred[:,0], pos_label=0)"
   ]
  },
  {
   "cell_type": "code",
   "execution_count": 12,
   "id": "236f2de3",
   "metadata": {},
   "outputs": [
    {
     "data": {
      "image/png": "[encoded data removed]",
      "text/plain": [
       "<Figure size 432x288 with 1 Axes>"
      ]
     },
     "metadata": {
      "needs_background": "light"
     },
     "output_type": "display_data"
    }
   ],
   "source": [
    "roc_auc = metrics.auc(fpr, tpr)\n",
    "display = metrics.RocCurveDisplay(fpr=fpr, tpr=tpr, roc_auc=roc_auc, estimator_name='Logistic Regression - Class 0')\n",
    "display.plot()\n",
    "plt.show()"
   ]
  }
 ],
 "metadata": {
  "kernelspec": {
   "display_name": "Python 3 (ipykernel)",
   "language": "python",
   "name": "python3"
  },
  "language_info": {
   "codemirror_mode": {
    "name": "ipython",
    "version": 3
   },
   "file_extension": ".py",
   "mimetype": "text/x-python",
   "name": "python",
   "nbconvert_exporter": "python",
   "pygments_lexer": "ipython3",
   "version": "3.9.13"
  }
 },
 "nbformat": 4,
 "nbformat_minor": 5
}
