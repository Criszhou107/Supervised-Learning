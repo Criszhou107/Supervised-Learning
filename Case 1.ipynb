{
 "cells": [
  {
   "cell_type": "markdown",
   "id": "7a01c3fc",
   "metadata": {},
   "source": [
    "## Case 1:\n",
    "\n",
    "Adapt the code from the Supervised Learning using the SKLearn Library  to train a logistic regression and a perceptron classifier on the new data set below.\n",
    "\n",
    "This data set contains person-level data from a digitized image of a fine needle aspirate of a breast mass for people with suspected breast cancer. Researchers then measured 11 features of the image. The aim is to predict patient diagnosis. Features of the dataset are:\n",
    "\n",
    "   -- -----------------------------------------\n",
    "   1. Sample code number            id number\n",
    "   2. Clump Thickness               1 - 10\n",
    "   3. Uniformity of Cell Size       1 - 10\n",
    "   4. Uniformity of Cell Shape      1 - 10\n",
    "   5. Marginal Adhesion             1 - 10\n",
    "   6. Single Epithelial Cell Size   1 - 10\n",
    "   7. Bare Nuclei                   1 - 10\n",
    "   8. Bland Chromatin               1 - 10\n",
    "   9. Normal Nucleoli               1 - 10\n",
    "  10. Mitoses                       1 - 10\n",
    "  11. Class:                        (2 for benign, 4 for malignant)\n",
    "\n",
    "More details of the dataset are available at: https://archive-beta.ics.uci.edu/ml/datasets/breast+cancer+wisconsin+diagnostic\n",
    "\n",
    "**Results**\n",
    "\n",
    "\n",
    "**benign or malignant, denoted by 2 or 4 in the output label**\n",
    "\n",
    "Using a train/test split of 70/30, calculate the mean and standard deviation of each feature that will be used in the standard scalar\n",
    "**means: array([4.41513292, 3.22290389, 3.26380368, 2.8200409 , 3.23108384,\n",
    "       3.58125   , 3.44580777, 2.91411043, 1.62781186])**\n"
   ]
  },
  {
   "cell_type": "markdown",
   "id": "0a73bc9a",
   "metadata": {},
   "source": [
    "# Data Import\n",
    "\n",
    "The data for this exercise is imported below. Note that some of the variables are categorical, and will need to be one-hot encoded. Other variables are dates. One option, for instance, is to convert sym_on and hosp_vis into a single variable - days between onset of symptoms and hospitalisation. This changes the variable from a date to a number."
   ]
  },
  {
   "cell_type": "code",
   "execution_count": 4,
   "id": "15e24348",
   "metadata": {},
   "outputs": [],
   "source": [
    "# data import\n",
    "import matplotlib.pyplot as plt\n",
    "import numpy as np\n",
    "import pandas as pd\n",
    "\n",
    "data = pd.read_csv('breast-cancer-wisconsin.csv', header = None, na_values='?')\n",
    "y = data.iloc[:,10]\n",
    "X = data.iloc[:,1:10]"
   ]
  },
  {
   "cell_type": "code",
   "execution_count": 6,
   "id": "d1373657",
   "metadata": {},
   "outputs": [
    {
     "data": {
      "text/html": [
       "<div>\n",
       "<style scoped>\n",
       "    .dataframe tbody tr th:only-of-type {\n",
       "        vertical-align: middle;\n",
       "    }\n",
       "\n",
       "    .dataframe tbody tr th {\n",
       "        vertical-align: top;\n",
       "    }\n",
       "\n",
       "    .dataframe thead th {\n",
       "        text-align: right;\n",
       "    }\n",
       "</style>\n",
       "<table border=\"1\" class=\"dataframe\">\n",
       "  <thead>\n",
       "    <tr style=\"text-align: right;\">\n",
       "      <th></th>\n",
       "      <th>1</th>\n",
       "      <th>2</th>\n",
       "      <th>3</th>\n",
       "      <th>4</th>\n",
       "      <th>5</th>\n",
       "      <th>6</th>\n",
       "      <th>7</th>\n",
       "      <th>8</th>\n",
       "      <th>9</th>\n",
       "    </tr>\n",
       "  </thead>\n",
       "  <tbody>\n",
       "    <tr>\n",
       "      <th>0</th>\n",
       "      <td>5</td>\n",
       "      <td>1</td>\n",
       "      <td>1</td>\n",
       "      <td>1</td>\n",
       "      <td>2</td>\n",
       "      <td>1.0</td>\n",
       "      <td>3</td>\n",
       "      <td>1</td>\n",
       "      <td>1</td>\n",
       "    </tr>\n",
       "    <tr>\n",
       "      <th>1</th>\n",
       "      <td>5</td>\n",
       "      <td>4</td>\n",
       "      <td>4</td>\n",
       "      <td>5</td>\n",
       "      <td>7</td>\n",
       "      <td>10.0</td>\n",
       "      <td>3</td>\n",
       "      <td>2</td>\n",
       "      <td>1</td>\n",
       "    </tr>\n",
       "    <tr>\n",
       "      <th>2</th>\n",
       "      <td>3</td>\n",
       "      <td>1</td>\n",
       "      <td>1</td>\n",
       "      <td>1</td>\n",
       "      <td>2</td>\n",
       "      <td>2.0</td>\n",
       "      <td>3</td>\n",
       "      <td>1</td>\n",
       "      <td>1</td>\n",
       "    </tr>\n",
       "    <tr>\n",
       "      <th>3</th>\n",
       "      <td>6</td>\n",
       "      <td>8</td>\n",
       "      <td>8</td>\n",
       "      <td>1</td>\n",
       "      <td>3</td>\n",
       "      <td>4.0</td>\n",
       "      <td>3</td>\n",
       "      <td>7</td>\n",
       "      <td>1</td>\n",
       "    </tr>\n",
       "    <tr>\n",
       "      <th>4</th>\n",
       "      <td>4</td>\n",
       "      <td>1</td>\n",
       "      <td>1</td>\n",
       "      <td>3</td>\n",
       "      <td>2</td>\n",
       "      <td>1.0</td>\n",
       "      <td>3</td>\n",
       "      <td>1</td>\n",
       "      <td>1</td>\n",
       "    </tr>\n",
       "    <tr>\n",
       "      <th>...</th>\n",
       "      <td>...</td>\n",
       "      <td>...</td>\n",
       "      <td>...</td>\n",
       "      <td>...</td>\n",
       "      <td>...</td>\n",
       "      <td>...</td>\n",
       "      <td>...</td>\n",
       "      <td>...</td>\n",
       "      <td>...</td>\n",
       "    </tr>\n",
       "    <tr>\n",
       "      <th>694</th>\n",
       "      <td>3</td>\n",
       "      <td>1</td>\n",
       "      <td>1</td>\n",
       "      <td>1</td>\n",
       "      <td>3</td>\n",
       "      <td>2.0</td>\n",
       "      <td>1</td>\n",
       "      <td>1</td>\n",
       "      <td>1</td>\n",
       "    </tr>\n",
       "    <tr>\n",
       "      <th>695</th>\n",
       "      <td>2</td>\n",
       "      <td>1</td>\n",
       "      <td>1</td>\n",
       "      <td>1</td>\n",
       "      <td>2</td>\n",
       "      <td>1.0</td>\n",
       "      <td>1</td>\n",
       "      <td>1</td>\n",
       "      <td>1</td>\n",
       "    </tr>\n",
       "    <tr>\n",
       "      <th>696</th>\n",
       "      <td>5</td>\n",
       "      <td>10</td>\n",
       "      <td>10</td>\n",
       "      <td>3</td>\n",
       "      <td>7</td>\n",
       "      <td>3.0</td>\n",
       "      <td>8</td>\n",
       "      <td>10</td>\n",
       "      <td>2</td>\n",
       "    </tr>\n",
       "    <tr>\n",
       "      <th>697</th>\n",
       "      <td>4</td>\n",
       "      <td>8</td>\n",
       "      <td>6</td>\n",
       "      <td>4</td>\n",
       "      <td>3</td>\n",
       "      <td>4.0</td>\n",
       "      <td>10</td>\n",
       "      <td>6</td>\n",
       "      <td>1</td>\n",
       "    </tr>\n",
       "    <tr>\n",
       "      <th>698</th>\n",
       "      <td>4</td>\n",
       "      <td>8</td>\n",
       "      <td>8</td>\n",
       "      <td>5</td>\n",
       "      <td>4</td>\n",
       "      <td>5.0</td>\n",
       "      <td>10</td>\n",
       "      <td>4</td>\n",
       "      <td>1</td>\n",
       "    </tr>\n",
       "  </tbody>\n",
       "</table>\n",
       "<p>699 rows × 9 columns</p>\n",
       "</div>"
      ],
      "text/plain": [
       "     1   2   3  4  5     6   7   8  9\n",
       "0    5   1   1  1  2   1.0   3   1  1\n",
       "1    5   4   4  5  7  10.0   3   2  1\n",
       "2    3   1   1  1  2   2.0   3   1  1\n",
       "3    6   8   8  1  3   4.0   3   7  1\n",
       "4    4   1   1  3  2   1.0   3   1  1\n",
       "..  ..  ..  .. .. ..   ...  ..  .. ..\n",
       "694  3   1   1  1  3   2.0   1   1  1\n",
       "695  2   1   1  1  2   1.0   1   1  1\n",
       "696  5  10  10  3  7   3.0   8  10  2\n",
       "697  4   8   6  4  3   4.0  10   6  1\n",
       "698  4   8   8  5  4   5.0  10   4  1\n",
       "\n",
       "[699 rows x 9 columns]"
      ]
     },
     "execution_count": 6,
     "metadata": {},
     "output_type": "execute_result"
    }
   ],
   "source": [
    "X"
   ]
  },
  {
   "cell_type": "code",
   "execution_count": 13,
   "id": "d42ee446",
   "metadata": {},
   "outputs": [],
   "source": [
    "# models that will be used in this exercise\n",
    "from sklearn.tree import DecisionTreeClassifier\n",
    "from sklearn.ensemble import RandomForestClassifier\n",
    "from sklearn.model_selection import train_test_split, cross_val_score\n",
    "from sklearn.metrics import recall_score\n",
    "from sklearn.metrics import make_scorer"
   ]
  },
  {
   "cell_type": "markdown",
   "id": "f189c8b1",
   "metadata": {},
   "source": [
    "# Data impution"
   ]
  },
  {
   "cell_type": "code",
   "execution_count": 8,
   "id": "0ce5fe86",
   "metadata": {},
   "outputs": [
    {
     "data": {
      "text/plain": [
       "1     0\n",
       "2     0\n",
       "3     0\n",
       "4     0\n",
       "5     0\n",
       "6    16\n",
       "7     0\n",
       "8     0\n",
       "9     0\n",
       "dtype: int64"
      ]
     },
     "execution_count": 8,
     "metadata": {},
     "output_type": "execute_result"
    }
   ],
   "source": [
    " X.isna().sum()"
   ]
  },
  {
   "cell_type": "code",
   "execution_count": 9,
   "id": "b1924233",
   "metadata": {},
   "outputs": [
    {
     "data": {
      "text/plain": [
       "<bound method NDFrame.head of      1   2   3  4  5     6   7   8  9\n",
       "0    5   1   1  1  2   1.0   3   1  1\n",
       "1    5   4   4  5  7  10.0   3   2  1\n",
       "2    3   1   1  1  2   2.0   3   1  1\n",
       "3    6   8   8  1  3   4.0   3   7  1\n",
       "4    4   1   1  3  2   1.0   3   1  1\n",
       "..  ..  ..  .. .. ..   ...  ..  .. ..\n",
       "694  3   1   1  1  3   2.0   1   1  1\n",
       "695  2   1   1  1  2   1.0   1   1  1\n",
       "696  5  10  10  3  7   3.0   8  10  2\n",
       "697  4   8   6  4  3   4.0  10   6  1\n",
       "698  4   8   8  5  4   5.0  10   4  1\n",
       "\n",
       "[699 rows x 9 columns]>"
      ]
     },
     "execution_count": 9,
     "metadata": {},
     "output_type": "execute_result"
    }
   ],
   "source": [
    "cols = [6]\n",
    "X[cols]=X[cols].fillna(X.mode().iloc[0])\n",
    "X.head"
   ]
  },
  {
   "cell_type": "markdown",
   "id": "2b935f40",
   "metadata": {},
   "source": [
    "# How many classes are you trying to predict?"
   ]
  },
  {
   "cell_type": "code",
   "execution_count": 14,
   "id": "86b3e445",
   "metadata": {},
   "outputs": [
    {
     "name": "stdout",
     "output_type": "stream",
     "text": [
      "Decision tree accuracy: 0.9327749229188079\n",
      "Decision tree sensitivity: 0.9241259129069688\n",
      "Random forest accuracy: 0.965704008221994\n",
      "Random forest sensitivity: 0.9620840727595386\n"
     ]
    }
   ],
   "source": [
    "# Decision tree classifier\n",
    "dt_clf = DecisionTreeClassifier(random_state=42)\n",
    "dt_acc = cross_val_score(dt_clf, X, y, cv=5)\n",
    "dt_sen = cross_val_score(dt_clf, X, y, cv=5, scoring=make_scorer(recall_score, pos_label=1, average='macro'))\n",
    "\n",
    "# Random forest classifier\n",
    "rf_clf = RandomForestClassifier(random_state=42)\n",
    "rf_acc = cross_val_score(rf_clf, X, y, cv=5)\n",
    "rf_sen = cross_val_score(rf_clf, X, y, cv=5, scoring=make_scorer(recall_score, pos_label=1, average='macro'))\n",
    "\n",
    "# Report accuracy and sensitivity\n",
    "print(\"Decision tree accuracy:\", np.mean(dt_acc))\n",
    "print(\"Decision tree sensitivity:\", np.mean(dt_sen))\n",
    "print(\"Random forest accuracy:\", np.mean(rf_acc))\n",
    "print(\"Random forest sensitivity:\", np.mean(rf_sen))"
   ]
  },
  {
   "cell_type": "markdown",
   "id": "8abb25a8",
   "metadata": {},
   "source": [
    "# Using a train/test split of 70/30, calculate the mean and standard deviation of each feature that will be used in the standard scalar?"
   ]
  },
  {
   "cell_type": "code",
   "execution_count": 16,
   "id": "f8bb870e",
   "metadata": {},
   "outputs": [
    {
     "name": "stdout",
     "output_type": "stream",
     "text": [
      "Logistic Regression - Mean Accuracy: 0.9642548818088386\n",
      "Logistic Regression - Mean Sensitivity: 0.9589618456078084\n",
      "Perceptron - Mean Accuracy: 0.9642548818088386\n",
      "Perceptron - Mean Sensitivity: 0.964861755739085\n"
     ]
    }
   ],
   "source": [
    "# import models\n",
    "from sklearn.linear_model import LogisticRegression, Perceptron\n",
    "from sklearn.model_selection import cross_validate\n",
    "\n",
    "\n",
    "# create logistic regression and perceptron objects\n",
    "lr = LogisticRegression()\n",
    "pt = Perceptron()\n",
    "\n",
    "# perform 5-fold cross-validation on logistic regression and perceptron models\n",
    "lr_scores = cross_validate(lr, X, y, cv=5, scoring=['accuracy', 'recall_macro'])\n",
    "pt_scores = cross_validate(pt, X, y, cv=5, scoring=['accuracy', 'recall_macro'])\n",
    "\n",
    "# print the mean accuracy and sensitivity (recall macro) scores for each model\n",
    "print('Logistic Regression - Mean Accuracy:', np.mean(lr_scores['test_accuracy']))\n",
    "print('Logistic Regression - Mean Sensitivity:', np.mean(lr_scores['test_recall_macro']))\n",
    "print('Perceptron - Mean Accuracy:', np.mean(pt_scores['test_accuracy']))\n",
    "print('Perceptron - Mean Sensitivity:', np.mean(pt_scores['test_recall_macro']))"
   ]
  },
  {
   "cell_type": "markdown",
   "id": "43f8d23c",
   "metadata": {},
   "source": [
    "# What is the sensitivity and specificity of your classifiers?"
   ]
  },
  {
   "cell_type": "code",
   "execution_count": 18,
   "id": "e652d2e1",
   "metadata": {},
   "outputs": [
    {
     "data": {
      "image/png": "[encoded data removed]",
      "text/plain": [
       "<Figure size 576x432 with 1 Axes>"
      ]
     },
     "metadata": {
      "needs_background": "light"
     },
     "output_type": "display_data"
    }
   ],
   "source": [
    "from sklearn.ensemble import RandomForestClassifier\n",
    "from sklearn.model_selection import cross_val_score\n",
    "import matplotlib.pyplot as plt\n",
    "\n",
    "# Define a range of n_estimators and max_features values to try\n",
    "n_estimators_range = [10, 50, 100, 200]\n",
    "max_features_range = [2, 4, 6, 8]\n",
    "\n",
    "# Initialize empty lists to store the results\n",
    "mean_accuracy_scores = []\n",
    "std_accuracy_scores = []\n",
    "\n",
    "# Loop through each combination of parameters\n",
    "for n_estimators in n_estimators_range:\n",
    "    accuracy_scores = []\n",
    "    for max_features in max_features_range:\n",
    "        # Create a random forest classifier with the current parameters\n",
    "        rf = RandomForestClassifier(n_estimators=n_estimators, max_features=max_features)\n",
    "        \n",
    "        # Perform 5-fold cross validation and calculate the accuracy scores\n",
    "        accuracy_scores = cross_val_score(rf, X, y, cv=5, scoring='accuracy')\n",
    "        \n",
    "        # Append the mean and standard deviation of the accuracy scores to the lists\n",
    "        mean_accuracy_scores.append(np.mean(accuracy_scores))\n",
    "        std_accuracy_scores.append(np.std(accuracy_scores))\n",
    "\n",
    "# Plot the mean accuracy scores for each combination of parameters\n",
    "plt.figure(figsize=(8, 6))\n",
    "for i in range(len(n_estimators_range)):\n",
    "    plt.errorbar(max_features_range, mean_accuracy_scores[i*len(max_features_range):(i+1)*len(max_features_range)], \n",
    "                 yerr=std_accuracy_scores[i*len(max_features_range):(i+1)*len(max_features_range)], label='n_estimators='+str(n_estimators_range[i]))\n",
    "plt.xlabel('max_features')\n",
    "plt.ylabel('Accuracy')\n",
    "plt.title('Random Forest Classifier Accuracy Scores')\n",
    "plt.legend()\n",
    "plt.show()"
   ]
  },
  {
   "cell_type": "markdown",
   "id": "ad543afd",
   "metadata": {},
   "source": [
    "# Another way"
   ]
  },
  {
   "cell_type": "code",
   "execution_count": 20,
   "id": "d0f2d1bf",
   "metadata": {},
   "outputs": [
    {
     "name": "stdout",
     "output_type": "stream",
     "text": [
      "[0.928540596094553, 0.9069784172661871, 0.9470606372045222, 0.9370914696813978, 0.9542651593011305, 0.9470914696813978, 0.9556628982528264, 0.9470914696813978, 0.9528263103802672, 0.9528365878725591, 0.9628160328879753, 0.9499177800616649, 0.9542548818088387, 0.9528365878725591, 0.9556834532374101, 0.9585405960945529, 0.9585508735868448, 0.9571223021582733, 0.9556834532374101]\n"
     ]
    }
   ],
   "source": [
    "# tinker with n_estimators\n",
    "estimators = np.arange(1,20,1)\n",
    "scoring = {'acc':'accuracy', 'sens':'recall_macro'}\n",
    "\n",
    "total_scores = [];\n",
    "for i, est in enumerate(estimators):\n",
    "    model1 = RandomForestClassifier(n_estimators = est)\n",
    "    scores1 = cross_validate(model1, X, y, cv=5, scoring = scoring, return_train_score = True) # this gives the accuracy\n",
    "    total_scores.append(scores1['test_acc'].mean())\n",
    "print(total_scores)"
   ]
  },
  {
   "cell_type": "code",
   "execution_count": 21,
   "id": "1c02ed4f",
   "metadata": {},
   "outputs": [
    {
     "data": {
      "text/plain": [
       "[<matplotlib.lines.Line2D at 0x7fe89c06ab50>]"
      ]
     },
     "execution_count": 21,
     "metadata": {},
     "output_type": "execute_result"
    },
    {
     "data": {
      "image/png": "[encoded data removed]",
      "text/plain": [
       "<Figure size 432x288 with 1 Axes>"
      ]
     },
     "metadata": {
      "needs_background": "light"
     },
     "output_type": "display_data"
    }
   ],
   "source": [
    "plt.plot(estimators, total_scores)"
   ]
  },
  {
   "cell_type": "code",
   "execution_count": 22,
   "id": "5c0f7a0c",
   "metadata": {},
   "outputs": [
    {
     "name": "stdout",
     "output_type": "stream",
     "text": [
      "[0.9685508735868448, 0.9671325796505652, 0.9599794450154162, 0.9571223021582733, 0.9542548818088387, 0.9542548818088387, 0.9513977389516958, 0.9542651593011305, 0.9528365878725591]\n"
     ]
    }
   ],
   "source": [
    "# tinker with max_features\n",
    "\n",
    "n_features = np.arange(1,10,1) # try 1 to 10 features for each tree\n",
    "\n",
    "total_scores = [];\n",
    "for i, est in enumerate(n_features):\n",
    "    model1 = RandomForestClassifier(max_features = est)\n",
    "    scores1 = cross_validate(model1, X, y, cv=5, scoring = scoring, return_train_score = True) # this gives the accuracy\n",
    "    total_scores.append(scores1['test_acc'].mean())\n",
    "print(total_scores)"
   ]
  },
  {
   "cell_type": "code",
   "execution_count": 23,
   "id": "3a27b721",
   "metadata": {},
   "outputs": [
    {
     "data": {
      "text/plain": [
       "[<matplotlib.lines.Line2D at 0x7fe89bf9f850>]"
      ]
     },
     "execution_count": 23,
     "metadata": {},
     "output_type": "execute_result"
    },
    {
     "data": {
      "image/png": "[encoded data removed]",
      "text/plain": [
       "<Figure size 432x288 with 1 Axes>"
      ]
     },
     "metadata": {
      "needs_background": "light"
     },
     "output_type": "display_data"
    }
   ],
   "source": [
    "plt.plot(n_features, total_scores)"
   ]
  },
  {
   "cell_type": "code",
   "execution_count": null,
   "id": "b6e9165e",
   "metadata": {},
   "outputs": [],
   "source": []
  }
 ],
 "metadata": {
  "kernelspec": {
   "display_name": "Python 3 (ipykernel)",
   "language": "python",
   "name": "python3"
  },
  "language_info": {
   "codemirror_mode": {
    "name": "ipython",
    "version": 3
   },
   "file_extension": ".py",
   "mimetype": "text/x-python",
   "name": "python",
   "nbconvert_exporter": "python",
   "pygments_lexer": "ipython3",
   "version": "3.9.13"
  }
 },
 "nbformat": 4,
 "nbformat_minor": 5
}
